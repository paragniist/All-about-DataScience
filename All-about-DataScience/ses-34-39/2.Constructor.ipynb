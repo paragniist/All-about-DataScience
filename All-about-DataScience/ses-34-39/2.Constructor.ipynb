{
 "cells": [
  {
   "cell_type": "markdown",
   "metadata": {},
   "source": [
    "## Constructor & Self"
   ]
  },
  {
   "cell_type": "markdown",
   "metadata": {},
   "source": []
  },
  {
   "cell_type": "code",
   "execution_count": 5,
   "metadata": {},
   "outputs": [
    {
     "name": "stdout",
     "output_type": "stream",
     "text": [
      "length :  15\n",
      "Breadth :  8\n",
      "Area :  120\n",
      "Perimeter :  46\n",
      "Area 2:  1\n",
      "Perimeter 2:  4\n"
     ]
    }
   ],
   "source": [
    "class Rectangle:\n",
    "    def __init__(self,l=1,b=1):\n",
    "        self.length = l\n",
    "        self.breadth = b\n",
    "\n",
    "    def area(self):\n",
    "        return self.length * self.breadth\n",
    "    \n",
    "    def perimeter(self):\n",
    "        return 2 * (self.length + self.breadth)\n",
    "    \n",
    "r1 = Rectangle(15,8)\n",
    "r2 = Rectangle()\n",
    "\n",
    "print('length : ',r1.length)\n",
    "print('Breadth : ',r1.breadth)\n",
    "print('Area : ',r1.area())\n",
    "print('Perimeter : ',r1.perimeter())\n",
    "\n",
    "print('Area 2: ',r2.area())\n",
    "print('Perimeter 2: ',r2.perimeter())"
   ]
  },
  {
   "cell_type": "markdown",
   "metadata": {},
   "source": [
    "### Constructor (__init__)\n",
    "\n",
    "<li>The constructor is a special method named __init__ that runs automatically whenever you create a new Rectangle.</li>\n",
    "\n",
    "<li>Its job is to initialize the new object’s attributes — here, length and breadth.</li>\n",
    "\n",
    "<li>It takes parameters (l and b) with default values, so if you don’t give any numbers, it uses 1 for both length and breadth.\n",
    "</li>\n",
    "<li>For example, when you do r1 = Rectangle(15,8), the constructor sets r1.length to 15 and r1.breadth to 8.</li>\n",
    "\n",
    "<li>When you do r2 = Rectangle(), the constructor uses default values, so r2.length and r2.breadth both become 1.</li>\n",
    "\n",
    "### self\n",
    "<li>self is like a way to say \"this particular rectangle\".</li>\n",
    "\n",
    "<li>It lets the methods know which specific rectangle object they are talking about.</li>\n",
    "\n",
    "<li>When the constructor runs, self.length = l means set the length for this exact rectangle to the value l.</li>\n",
    "\n",
    "<li>Same for self.breadth = b — it stores the breadth just for this rectangle object.</li>\n",
    "\n",
    "<li>Whenever you call r1.area(), Python knows to use r1’s own length and breadth because of how self works inside the area method.</li>\n",
    "\n"
   ]
  },
  {
   "cell_type": "markdown",
   "metadata": {},
   "source": [
    "## Instance Varibale and Instance methods:\n",
    "\n",
    "1. Are defined using __init__() inside init method.\n",
    "2. fun(self) inside instance method, method must be called.\n",
    "3. t.c = 30 upon instane, object"
   ]
  },
  {
   "cell_type": "code",
   "execution_count": 20,
   "metadata": {},
   "outputs": [
    {
     "name": "stdout",
     "output_type": "stream",
     "text": [
      "10\n",
      "20\n",
      "30\n"
     ]
    }
   ],
   "source": [
    "class Test:\n",
    "    def __init__(self):\n",
    "        self.a = 10\n",
    "    \n",
    "    def fun(self):\n",
    "        self.b = 20\n",
    "\n",
    "    def show(self):\n",
    "        print(self.a)\n",
    "        print(self.b)\n",
    "        print(self.c)\n",
    "\n",
    "t = Test()\n",
    "t.fun()\n",
    "t.c = 30\n",
    "t.show()\n",
    "t.d = 40"
   ]
  },
  {
   "cell_type": "markdown",
   "metadata": {},
   "source": [
    "## Class Variable and Class methods\n",
    "\n",
    "\n",
    "- **Class Variable:** A variable defined inside a class but outside any instance method. It is shared by all instances of the class.\n",
    "- **Instance Variable:** A variable bound to the specific instance of the class.\n",
    "- **Class Method:** A method decorated with `@classmethod`. It takes `cls` as the first argument and can access or modify class variables.\n",
    "- Class methods can be called on the class itself or instances.\n",
    "- Useful for operations or data shared among all instances of the class.\n"
   ]
  },
  {
   "cell_type": "code",
   "execution_count": 23,
   "metadata": {},
   "outputs": [
    {
     "name": "stdout",
     "output_type": "stream",
     "text": [
      "3\n"
     ]
    }
   ],
   "source": [
    "class Rectangle:\n",
    "\n",
    "    count = 0                   ## Class variable\n",
    "\n",
    "    def __init__(self,l=1,b=1):\n",
    "        self.length = l        ## Instance Variables\n",
    "        self.breadth = b\n",
    "        Rectangle.count +=1     \n",
    "        ## Class varaibles are accessed using class name inside\n",
    "        ## instance method\n",
    "                                \n",
    "\n",
    "    def area(self):\n",
    "        return self.length * self.breadth\n",
    "    \n",
    "    def perimeter(self):\n",
    "        return 2 * (self.length + self.breadth)\n",
    "    \n",
    "    @classmethod\n",
    "    def get_count(cls):  ## cls is a new keyword as we cannot use self\n",
    "        return cls.count \n",
    "\n",
    "r1 = Rectangle(15,8)\n",
    "r2 = Rectangle()\n",
    "r3 = Rectangle()\n",
    "print(Rectangle.get_count())"
   ]
  },
  {
   "cell_type": "markdown",
   "metadata": {},
   "source": [
    "**count** is a class variable, which means it is shared across all objects created from the Rectangle class.\n",
    "\n",
    "Every time a new Rectangle is created, the constructor (__init__) runs and increments the count by 1.\n",
    "\n",
    "length and breadth are instance variables; each rectangle object has its own values.\n",
    "\n",
    "The get_count() method is a class method (marked by @classmethod), which can access the class variable using the cls keyword.\n",
    "\n",
    "Calling Rectangle.get_count() returns the total number of Rectangle instances created so far, which is 2 after creating r1 and r2."
   ]
  },
  {
   "cell_type": "markdown",
   "metadata": {},
   "source": [
    "### Summary of Class variables:\n",
    "- Declared outside all methods.\n",
    "- Created only once, common for all instances.\n",
    "- Can be accessed using object or class name.\n",
    "- used as shared data.\n",
    "-  Stores Information about class (Meta Data).\n",
    "\n",
    "### Summary of Class methods:\n",
    "\n",
    "- Decorator @classmethod is used.\n",
    "- First parameter is 'cls' class variable.\n",
    "-  They can access only class variables.\n",
    "- can be called using instance or class Name."
   ]
  },
  {
   "cell_type": "markdown",
   "metadata": {},
   "source": [
    "<br>"
   ]
  },
  {
   "cell_type": "markdown",
   "metadata": {},
   "source": [
    "## STATIC METHODS:"
   ]
  },
  {
   "cell_type": "code",
   "execution_count": 1,
   "metadata": {},
   "outputs": [
    {
     "name": "stdout",
     "output_type": "stream",
     "text": [
      "70\n"
     ]
    }
   ],
   "source": [
    "class Rectangle:\n",
    "    def __init__(self,l,b):\n",
    "        self.length=l\n",
    "        self.breadth=b\n",
    "\n",
    "    @staticmethod\n",
    "    def calc_area(length,breadth):\n",
    "        return length*breadth\n",
    "    \n",
    "print(Rectangle.calc_area(10,7))\n"
   ]
  },
  {
   "cell_type": "markdown",
   "metadata": {},
   "source": [
    "### Statis Methods:\n",
    "\n",
    "- Utility Functions\n",
    "- Can be called using class Name\n",
    "- Can't access members of a class\n",
    "- @staticmethod decorator is used."
   ]
  },
  {
   "cell_type": "markdown",
   "metadata": {},
   "source": [
    "- instance methods ---> can access instance data and class Data\n",
    "- class methods ----> can access class data but not the instance data.\n",
    "- Static methods ----> cannot access the instance data as well as Class data."
   ]
  },
  {
   "cell_type": "markdown",
   "metadata": {},
   "source": [
    "## PROPERTY METHODS:"
   ]
  },
  {
   "cell_type": "markdown",
   "metadata": {},
   "source": [
    "Python property methods allow you to define special behavior when accessing, setting, or deleting attributes. Instead of directly accessing instance variables, properties let you add validation, computation, or other logic behind the scenes while keeping the interface simple"
   ]
  },
  {
   "cell_type": "markdown",
   "metadata": {},
   "source": [
    "Getter: Retrieves the attribute value\n",
    "\n",
    "Setter: Sets the attribute value (with optional validation)\n",
    "\n",
    "Deleter: Removes or resets the attribute"
   ]
  },
  {
   "cell_type": "code",
   "execution_count": 25,
   "metadata": {},
   "outputs": [
    {
     "name": "stdout",
     "output_type": "stream",
     "text": [
      "10\n"
     ]
    }
   ],
   "source": [
    "class Rectangle:\n",
    "    def __init__(self,l,b):\n",
    "        self.set_length(l)\n",
    "        self.breadth = b\n",
    "\n",
    "    def get_length(self):\n",
    "        return self.length\n",
    "    \n",
    "    def set_length(self,l):\n",
    "        if l >= 0:\n",
    "            self.length = l\n",
    "        else:\n",
    "            self.length = 1\n",
    "\n",
    "r = Rectangle(10,5)\n",
    "\n",
    "print(r.get_length())"
   ]
  },
  {
   "cell_type": "code",
   "execution_count": 19,
   "metadata": {},
   "outputs": [
    {
     "name": "stdout",
     "output_type": "stream",
     "text": [
      "1\n"
     ]
    }
   ],
   "source": [
    "class Rectangle:\n",
    "    def __init__(self, l, b):\n",
    "        self.length = l\n",
    "        self.breadth = b\n",
    "\n",
    "    @property\n",
    "    def length(self):       #getter\n",
    "        return self._length\n",
    "    \n",
    "    @length.setter\n",
    "    def length(self, l):   # same name as property\n",
    "        if l >= 0:\n",
    "            self._length = l\n",
    "        else:\n",
    "            self._length = 1\n",
    "\n",
    "r = Rectangle(10, 5)\n",
    "r.length = -9   # setter will force it to 1\n",
    "print(r.length) # access property directly\n"
   ]
  },
  {
   "cell_type": "markdown",
   "metadata": {},
   "source": [
    "\n",
    "#### 1. `class Rectangle:`\n",
    "Declares a new class named **Rectangle**.  \n",
    "It's a blueprint for creating rectangle objects.\n",
    "\n",
    "---\n",
    "\n",
    "#### 2. `def __init__(self, l, b):`\n",
    "The constructor runs when you create `Rectangle(10, 5)`.  \n",
    "`self` is the instance being created.\n",
    "\n",
    "---\n",
    "\n",
    "#### Inside `__init__`\n",
    "\n",
    "- **`self.length = l`**  \n",
    "  - ⚠️ Important: this does **not** directly set an attribute `_length`.  \n",
    "  - Because `length` is defined as a `@property`, assigning to `self.length` calls the **setter** (`@length.setter`).  \n",
    "  - Python automatically routes it through that method.\n",
    "\n",
    "- **`self.breadth = b`**  \n",
    "  - This directly creates an attribute `breadth` on the instance.  \n",
    "  - ✅ No validation here (unlike `length`).\n",
    "\n",
    "---\n",
    "\n",
    "#### 3. `@property def length(self): return self._length`\n",
    "- This is the **getter**.  \n",
    "- When you do `r.length`, Python runs this method and returns the internal value `self._length`.  \n",
    "- The underscore (`_length`) is a naming convention for “internal/private”.\n",
    "\n",
    "---\n",
    "\n",
    "#### 4. `@length.setter def length(self, l):`\n",
    "This is the **setter** that runs on any assignment to `r.length = ...`.\n",
    "\n",
    "- If `l >= 0`:  \n",
    "  `self._length = l` → store the given value if non-negative.  \n",
    "- Else:  \n",
    "  `self._length = 1` → if negative, it silently sets `_length` to **1**.\n",
    "\n",
    "---\n",
    "\n",
    "#### 5. Usage Example\n",
    "\n",
    "#### `r = Rectangle(10, 5)` — what happens:\n",
    "- `__init__` runs.  \n",
    "- `self.length = 10` calls the setter with `l = 10`, so `_length` becomes **10**.  \n",
    "- `breadth` becomes **5**.\n",
    "\n",
    "---\n",
    "\n",
    "#### `r.length = -9` — what happens:\n",
    "- Assigning triggers the setter with `l = -9`.  \n",
    "- Since `-9 < 0`, the setter sets `_length = 1`.\n",
    "\n",
    "---\n",
    "\n",
    "#### `print(r.length)` — what happens:\n",
    "- Accessing `r.length` calls the **getter**, which returns `self._length`.  \n",
    "- The value is **1**, so the program prints:\n",
    "\n"
   ]
  },
  {
   "cell_type": "code",
   "execution_count": null,
   "metadata": {},
   "outputs": [],
   "source": []
  }
 ],
 "metadata": {
  "kernelspec": {
   "display_name": "ai_interviewer",
   "language": "python",
   "name": "python3"
  },
  "language_info": {
   "codemirror_mode": {
    "name": "ipython",
    "version": 3
   },
   "file_extension": ".py",
   "mimetype": "text/x-python",
   "name": "python",
   "nbconvert_exporter": "python",
   "pygments_lexer": "ipython3",
   "version": "3.11.11"
  }
 },
 "nbformat": 4,
 "nbformat_minor": 2
}
