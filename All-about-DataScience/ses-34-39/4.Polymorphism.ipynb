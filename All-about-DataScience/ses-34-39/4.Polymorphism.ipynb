{
 "cells": [
  {
   "cell_type": "markdown",
   "metadata": {},
   "source": [
    "# POLYMORPHISM:"
   ]
  },
  {
   "cell_type": "markdown",
   "metadata": {},
   "source": [
    "means One name many forms.\n",
    "- Duck Typing\n",
    "- Method Overloading\n",
    "- Method Overriding\n",
    "- Operator Overloading"
   ]
  },
  {
   "cell_type": "code",
   "execution_count": 3,
   "metadata": {},
   "outputs": [
    {
     "data": {
      "text/plain": [
       "9"
      ]
     },
     "execution_count": 3,
     "metadata": {},
     "output_type": "execute_result"
    }
   ],
   "source": [
    "5+4"
   ]
  },
  {
   "cell_type": "code",
   "execution_count": 4,
   "metadata": {},
   "outputs": [
    {
     "data": {
      "text/plain": [
       "(3+5j)"
      ]
     },
     "execution_count": 4,
     "metadata": {},
     "output_type": "execute_result"
    }
   ],
   "source": [
    "1.2 + 2.3"
   ]
  },
  {
   "cell_type": "code",
   "execution_count": 5,
   "metadata": {},
   "outputs": [
    {
     "data": {
      "text/plain": [
       "'HelloWorld'"
      ]
     },
     "execution_count": 5,
     "metadata": {},
     "output_type": "execute_result"
    }
   ],
   "source": [
    "'Hello' + 'World'"
   ]
  },
  {
   "cell_type": "code",
   "execution_count": 7,
   "metadata": {},
   "outputs": [
    {
     "data": {
      "text/plain": [
       "(3+5j)"
      ]
     },
     "execution_count": 7,
     "metadata": {},
     "output_type": "execute_result"
    }
   ],
   "source": [
    "(1+2j) + (2+3j)"
   ]
  },
  {
   "cell_type": "markdown",
   "metadata": {},
   "source": [
    "### Duck typing :"
   ]
  },
  {
   "cell_type": "code",
   "execution_count": 13,
   "metadata": {},
   "outputs": [],
   "source": [
    "class Duck:\n",
    "    def talk(self):\n",
    "        print(\"Duck talking\")\n",
    "    \n",
    "    def walk(self):\n",
    "        print(\"Duck Walking\")\n",
    "\n",
    "class Dog:\n",
    "    def talk(self):\n",
    "        print(\"Dog talking\")\n",
    "    \n",
    "    def walk(self):\n",
    "        print(\"Dog Walking\")\n",
    "\n"
   ]
  },
  {
   "cell_type": "markdown",
   "metadata": {},
   "source": [
    "Here we can see that two classes Duck and Dog, have same functions talk and walk, this means the two functions have same name but different outputs. means One name many forms that is polymorphism."
   ]
  },
  {
   "cell_type": "code",
   "execution_count": 16,
   "metadata": {},
   "outputs": [
    {
     "name": "stdout",
     "output_type": "stream",
     "text": [
      "Duck talking\n",
      "Duck Walking\n",
      "Dog talking\n",
      "Dog Walking\n"
     ]
    }
   ],
   "source": [
    "def person (pet):\n",
    "    pet.talk()\n",
    "    pet.walk()\n",
    "\n",
    "duck = Duck()       #object of duck class\n",
    "person(duck)\n",
    "\n",
    "dog = Dog()         #Object of dog class\n",
    "person(dog)"
   ]
  },
  {
   "cell_type": "code",
   "execution_count": 17,
   "metadata": {},
   "outputs": [
    {
     "name": "stdout",
     "output_type": "stream",
     "text": [
      "Duck talking\n",
      "Duck Walking\n",
      "Dog talking\n"
     ]
    }
   ],
   "source": [
    "class Duck:\n",
    "    def talk(self):\n",
    "        print(\"Duck talking\")\n",
    "    \n",
    "    def walk(self):\n",
    "        print(\"Duck Walking\")\n",
    "\n",
    "class Dog:\n",
    "    def talk(self):\n",
    "        print(\"Dog talking\")\n",
    "\n",
    "    # Removed walk function from Dog class\n",
    "\n",
    "def person (pet):\n",
    "    pet.talk()\n",
    "    #Adding one condition to check wheter walk func is present or not:\n",
    "    if hasattr(pet,'walk'):\n",
    "        pet.walk()\n",
    "\n",
    "duck = Duck()       #object of duck class\n",
    "person(duck)\n",
    "\n",
    "dog = Dog()         #Object of dog class\n",
    "person(dog)"
   ]
  },
  {
   "cell_type": "markdown",
   "metadata": {},
   "source": [
    "##### Polymorphism is not such importamnt in python due to large module support which are already following polymorphism and OOPS."
   ]
  },
  {
   "cell_type": "markdown",
   "metadata": {},
   "source": [
    "### Method overloading :\n",
    "\n",
    "same Name functions, with different\n",
    "- Type of parameters\n",
    "- Number of parameters"
   ]
  },
  {
   "cell_type": "markdown",
   "metadata": {},
   "source": [
    "#### Note :\n",
    "Python by default supports method overloading we do not need to do anything."
   ]
  },
  {
   "cell_type": "code",
   "execution_count": null,
   "metadata": {},
   "outputs": [],
   "source": [
    "def sum(a,b):\n",
    "    return a + b\n",
    "\n",
    "def sum(a,b,c):\n",
    "    return a + b + c\n",
    "\n",
    "sum(10,15)\n",
    "sum(1.2, 3.54)\n",
    "sum('hello', 'World')\n",
    "\n",
    "\n",
    "### But we cannot do for different numbers of parameters."
   ]
  },
  {
   "cell_type": "code",
   "execution_count": 37,
   "metadata": {},
   "outputs": [
    {
     "name": "stdout",
     "output_type": "stream",
     "text": [
      "Parent Show\n",
      "child Show\n"
     ]
    }
   ],
   "source": [
    "class Parent:\n",
    "    def show(self):\n",
    "        print('Parent Show')\n",
    "\n",
    "class Child(Parent):\n",
    "    pass\n",
    "    def show(self):\n",
    "        super().show()\n",
    "        print('child Show')\n",
    "\n",
    "c = Child()\n",
    "c.show()"
   ]
  },
  {
   "cell_type": "markdown",
   "metadata": {},
   "source": [
    "## Operator Overloading :"
   ]
  },
  {
   "cell_type": "markdown",
   "metadata": {},
   "source": [
    "| Operator / Purpose        | Method           | Description                       |\n",
    "|--------------------------|------------------|-----------------------------------|\n",
    "| +   (Addition)           | __add__         | a + b                             |\n",
    "| -   (Subtraction)        | __sub__          | a - b                             |\n",
    "| *   (Multiplication)     | __mul__          | a * b                             |\n",
    "| /   (True Division)      | __truediv__      | a / b                             |\n",
    "| //  (Floor Division)     | __floordiv__     | a // b                            |\n",
    "| %   (Modulus)            | __mod__          | a % b                             |\n",
    "| **  (Power)              | __pow__          | a ** b                            |\n",
    "| +=  (In-place addition)  | __iadd__         | a += b                            |\n",
    "| -=  (In-place subtraction)| __isub__        | a -= b                            |\n",
    "| *=  (In-place multiplication)| __imul__      | a *= b                            |\n",
    "| /=  (In-place division)  | __itruediv__     | a /= b                            |\n",
    "| //= (In-place floor div) | __ifloordiv__    | a //= b                           |\n",
    "| %=  (In-place modulus)   | __imod__         | a %= b                            |\n",
    "| **= (In-place power)     | __ipow__         | a **= b                           |\n",
    "| -a  (Unary minus)        | __neg__          | -a                                |\n",
    "| +a  (Unary plus)         | __pos__          | +a                                |\n",
    "| ~a  (Bitwise invert)     | __invert__       | ~a                                |\n",
    "| <   (Less than)          | __lt__           | a < b                             |\n",
    "| <=  (Less than or equal) | __le__           | a <= b                            |\n",
    "| ==  (Equal to)           | __eq__           | a == b                            |\n",
    "| !=  (Not equal to)       | __ne__           | a != b                            |\n",
    "| >   (Greater than)       | __gt__           | a > b                             |\n",
    "| >=  (Greater or equal)   | __ge__           | a >= b                            |\n",
    "| []  (Indexing)           | __getitem__      | a[index]                          |\n",
    "| []= (Index assignment)   | __setitem__      | a[index] = value                  |\n",
    "| del [] (Index deletion)  | __delitem__      | del a[index]                      |\n",
    "| len()                    | __len__          | len(a)                            |\n",
    "| str() / print()          | __str__          | str(a) / print(a)                 |\n",
    "| repr()                   | __repr__         | repr(a)                           |\n",
    "| call                     | __call__         | a() (object called like function) |\n",
    "| hash()                   | __hash__         | hash(a)                           |\n",
    "| bool()                   | __bool__         | bool(a)                           |\n",
    "| &   (Bitwise and)        | __and__          | a & b                             |\n",
    "| |   (Bitwise or)         | __or__           | a \\| b                            |\n",
    "| ^   (Bitwise xor)        | __xor__          | a ^ b                             |\n",
    "| <<  (Left shift)         | __lshift__       | a << b                            |\n",
    "| >>  (Right shift)        | __rshift__       | a >> b                            |\n"
   ]
  },
  {
   "cell_type": "markdown",
   "metadata": {},
   "source": []
  },
  {
   "cell_type": "code",
   "execution_count": 41,
   "metadata": {},
   "outputs": [
    {
     "name": "stdout",
     "output_type": "stream",
     "text": [
      "(3, 1, 2, 5)\n"
     ]
    }
   ],
   "source": [
    "# vectors\n",
    "\n",
    "v1 = (3,1)\n",
    "v2 = (2,5)\n",
    "\n",
    "v3 = v1 + v2\n",
    "print(v3)"
   ]
  },
  {
   "cell_type": "code",
   "execution_count": 44,
   "metadata": {},
   "outputs": [
    {
     "name": "stdout",
     "output_type": "stream",
     "text": [
      "Vector Sum :  (5,6)\n"
     ]
    }
   ],
   "source": [
    "class Vector:\n",
    "    def __init__(self,x,y):\n",
    "        self.x = x\n",
    "        self.y = y\n",
    "\n",
    "    def __add__(self,other):\n",
    "        x = self.x + other.x\n",
    "        y = self.y + other.y\n",
    "        return Vector(x,y)\n",
    "    \n",
    "    def __str__(self):\n",
    "        return '('+str(self.x) + ',' + str(self.y)+')'\n",
    "    \n",
    "v1 = Vector(3,1)\n",
    "v2 = Vector(2,5)\n",
    "v3 = v1 + v2\n",
    "print('Vector Sum : ',v3)"
   ]
  },
  {
   "cell_type": "code",
   "execution_count": null,
   "metadata": {},
   "outputs": [],
   "source": []
  }
 ],
 "metadata": {
  "kernelspec": {
   "display_name": "ai_interviewer",
   "language": "python",
   "name": "python3"
  },
  "language_info": {
   "codemirror_mode": {
    "name": "ipython",
    "version": 3
   },
   "file_extension": ".py",
   "mimetype": "text/x-python",
   "name": "python",
   "nbconvert_exporter": "python",
   "pygments_lexer": "ipython3",
   "version": "3.11.11"
  }
 },
 "nbformat": 4,
 "nbformat_minor": 2
}
