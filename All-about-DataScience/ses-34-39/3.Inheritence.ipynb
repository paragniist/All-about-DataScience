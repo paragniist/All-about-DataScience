{
 "cells": [
  {
   "cell_type": "markdown",
   "metadata": {},
   "source": [
    "# INHERITENCE :"
   ]
  },
  {
   "cell_type": "code",
   "execution_count": 2,
   "metadata": {},
   "outputs": [
    {
     "ename": "AttributeError",
     "evalue": "'Cuboid' object has no attribute 'length'",
     "output_type": "error",
     "traceback": [
      "\u001b[31m---------------------------------------------------------------------------\u001b[39m",
      "\u001b[31mAttributeError\u001b[39m                            Traceback (most recent call last)",
      "\u001b[36mCell\u001b[39m\u001b[36m \u001b[39m\u001b[32mIn[2]\u001b[39m\u001b[32m, line 20\u001b[39m\n\u001b[32m     17\u001b[39m         \u001b[38;5;28;01mreturn\u001b[39;00m \u001b[38;5;28mself\u001b[39m.length * \u001b[38;5;28mself\u001b[39m.breadth * \u001b[38;5;28mself\u001b[39m.height\n\u001b[32m     19\u001b[39m c = Cuboid(\u001b[32m3\u001b[39m)\n\u001b[32m---> \u001b[39m\u001b[32m20\u001b[39m \u001b[38;5;28mprint\u001b[39m(\u001b[43mc\u001b[49m\u001b[43m.\u001b[49m\u001b[43mvolume\u001b[49m\u001b[43m(\u001b[49m\u001b[43m)\u001b[49m)\n",
      "\u001b[36mCell\u001b[39m\u001b[36m \u001b[39m\u001b[32mIn[2]\u001b[39m\u001b[32m, line 17\u001b[39m, in \u001b[36mCuboid.volume\u001b[39m\u001b[34m(self)\u001b[39m\n\u001b[32m     16\u001b[39m \u001b[38;5;28;01mdef\u001b[39;00m\u001b[38;5;250m \u001b[39m\u001b[34mvolume\u001b[39m(\u001b[38;5;28mself\u001b[39m):\n\u001b[32m---> \u001b[39m\u001b[32m17\u001b[39m     \u001b[38;5;28;01mreturn\u001b[39;00m \u001b[38;5;28;43mself\u001b[39;49m\u001b[43m.\u001b[49m\u001b[43mlength\u001b[49m * \u001b[38;5;28mself\u001b[39m.breadth * \u001b[38;5;28mself\u001b[39m.height\n",
      "\u001b[31mAttributeError\u001b[39m: 'Cuboid' object has no attribute 'length'"
     ]
    }
   ],
   "source": [
    "class Rectangle:\n",
    "    def __init__(self,l=1,b=1):\n",
    "        self.length = l\n",
    "        self.breadth = b\n",
    "\n",
    "    def area(self):\n",
    "        return self.length * self.breadth\n",
    "    \n",
    "    def perimeter(self):\n",
    "        return 2 * (self.length + self.breadth)\n",
    "    \n",
    "class Cuboid(Rectangle):\n",
    "    def __init__(self,h):\n",
    "        self.height = h\n",
    "\n",
    "    def volume(self):\n",
    "        return self.length * self.breadth * self.height\n",
    "    \n",
    "c = Cuboid(3)\n",
    "print(c.volume())"
   ]
  },
  {
   "cell_type": "markdown",
   "metadata": {},
   "source": [
    "## Constructors in inheritence :"
   ]
  },
  {
   "cell_type": "code",
   "execution_count": 3,
   "metadata": {},
   "outputs": [
    {
     "name": "stdout",
     "output_type": "stream",
     "text": [
      "150\n"
     ]
    }
   ],
   "source": [
    "class Rectangle:\n",
    "    def __init__(self,l=1,b=1):\n",
    "        self.length = l\n",
    "        self.breadth = b\n",
    "\n",
    "    def area(self):\n",
    "        return self.length * self.breadth\n",
    "    \n",
    "    def perimeter(self):\n",
    "        return 2 * (self.length + self.breadth)\n",
    "    \n",
    "class Cuboid(Rectangle):\n",
    "    def __init__(self,h,l,b):\n",
    "        self.height = h\n",
    "        super().__init__(l,b)       ## Super constructor\n",
    "\n",
    "    def volume(self):\n",
    "        return self.length * self.breadth * self.height\n",
    "    \n",
    "c = Cuboid(10,5,3)\n",
    "print(c.volume())"
   ]
  },
  {
   "cell_type": "markdown",
   "metadata": {},
   "source": [
    "## Data Hiding:"
   ]
  },
  {
   "cell_type": "code",
   "execution_count": 5,
   "metadata": {},
   "outputs": [
    {
     "name": "stdout",
     "output_type": "stream",
     "text": [
      "10\n",
      "20\n"
     ]
    }
   ],
   "source": [
    "class Parent:\n",
    "    def __init__(self,d):\n",
    "        self.__data = d     #private variable using double underscore\n",
    "\n",
    "    def show(self):\n",
    "        print(self.__data)\n",
    "\n",
    "p = Parent(10)\n",
    "p.show()\n",
    "# p.__data = 20       #Not modyfying the Data output = 10\n",
    "p._Parent__data = 20    # this is how to access a private variable in a class.\n",
    "p.show()"
   ]
  },
  {
   "cell_type": "code",
   "execution_count": 12,
   "metadata": {},
   "outputs": [
    {
     "name": "stdout",
     "output_type": "stream",
     "text": [
      "25\n",
      "25\n"
     ]
    }
   ],
   "source": [
    "class Parent:\n",
    "    def __init__(self,d):\n",
    "        self._data = d     #Protected variable using Single underscore\n",
    "\n",
    "    def show(self):\n",
    "        print(self._data)\n",
    "\n",
    "class Child(Parent):            # Child class can access the Protected Variables.\n",
    "    def __init__(self, d):\n",
    "        super().__init__(d)\n",
    "\n",
    "    def display(self):\n",
    "        print(self._data)\n",
    "\n",
    "c = Child(25)\n",
    "c.show()\n",
    "c.display()"
   ]
  },
  {
   "cell_type": "markdown",
   "metadata": {},
   "source": [
    "### Variable Scope Definitions\n",
    "1. Public Variables\n",
    "Accessible from anywhere, both inside and outside the class.\n",
    "\n",
    "Naming: No underscore prefix.\n",
    "\n",
    "2. Protected Variables\n",
    "Intended to be accessed only within the class and its subclasses.\n",
    "\n",
    "Naming convention: Single underscore prefix (_protected_var).\n",
    "\n",
    "3. Private Variables\n",
    "Accessible only within the class. Not visible outside, not even in subclasses.\n",
    "\n",
    "Naming convention: Double underscore prefix (__private_var).\n",
    "\n",
    "Python performs name mangling, transforming variables like __private_var to _ClassName__private_var, making direct access difficult from outside.\n",
    "\n"
   ]
  },
  {
   "cell_type": "markdown",
   "metadata": {},
   "source": [
    "## Nested Class:"
   ]
  },
  {
   "cell_type": "code",
   "execution_count": 15,
   "metadata": {},
   "outputs": [
    {
     "name": "stdout",
     "output_type": "stream",
     "text": [
      "Inner Data\n"
     ]
    }
   ],
   "source": [
    "class Outer:        # Outer Class\n",
    "    def __init__(self):\n",
    "        self.inobj = self.Inner()   #accessing Inner class\n",
    "    \n",
    "    def show(self):\n",
    "        self.inobj.show()   #Dispalying Outer data which is inner data.\n",
    "\n",
    "\n",
    "    class Inner():      # Inner class\n",
    "        def __init__(self):\n",
    "            self.idata = \"Inner Data\"   #Storing inner data\n",
    "        def show(self):\n",
    "            print(self.idata)   #displaying inner data\n",
    "\n",
    "o = Outer()\n",
    "o.show()"
   ]
  },
  {
   "cell_type": "code",
   "execution_count": null,
   "metadata": {},
   "outputs": [],
   "source": []
  }
 ],
 "metadata": {
  "kernelspec": {
   "display_name": "ai_interviewer",
   "language": "python",
   "name": "python3"
  },
  "language_info": {
   "codemirror_mode": {
    "name": "ipython",
    "version": 3
   },
   "file_extension": ".py",
   "mimetype": "text/x-python",
   "name": "python",
   "nbconvert_exporter": "python",
   "pygments_lexer": "ipython3",
   "version": "3.11.11"
  }
 },
 "nbformat": 4,
 "nbformat_minor": 2
}
