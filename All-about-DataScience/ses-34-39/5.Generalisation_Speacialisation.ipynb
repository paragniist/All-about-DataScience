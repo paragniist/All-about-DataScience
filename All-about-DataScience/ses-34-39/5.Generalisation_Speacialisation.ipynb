{
 "cells": [
  {
   "cell_type": "markdown",
   "metadata": {},
   "source": [
    "# Generalization vs. Specialization in OOP\n",
    "\n",
    "| Aspect         | Generalization                                               | Specialization                                        |\n",
    "|----------------|-------------------------------------------------------------|-------------------------------------------------------|\n",
    "| Definition     | Combines shared traits into a **superclass**                | Creates subclasses with additional, specific traits   |\n",
    "| Direction      | **Bottom-up** (from specific to general)                    | **Top-down** (from general to specific)               |\n",
    "| Purpose        | Reuse/abstract shared features                              | Extend/customize features for a use case              |\n",
    "| Impact         | Reduces redundancy, eases updates                           | Enhances modularity, flexibility                      |\n",
    "| Relationship   | \"is-a\" (Car **is a** Vehicle)                               | \"is-a-kind-of\" (Car **is a kind of** Vehicle)         |\n",
    "| Example        | `Vehicle` superclass with `Car` and `Truck` subclasses      | `Car` adds trunk, `Truck` adds cargo capacity         |\n",
    "\n",
    "## Example in Python\n",
    "\n"
   ]
  },
  {
   "cell_type": "code",
   "execution_count": 2,
   "metadata": {},
   "outputs": [],
   "source": [
    "class Vehicle:\n",
    "    def start(self):\n",
    "        print(\"Vehicle started.\")\n",
    "\n",
    "class Car(Vehicle):\n",
    "    pass"
   ]
  },
  {
   "cell_type": "code",
   "execution_count": 3,
   "metadata": {},
   "outputs": [],
   "source": [
    "# Specialization\n",
    "class Car(Vehicle):\n",
    "    def open_trunk(self):\n",
    "        print(\"Trunk opened.\")\n",
    "\n",
    "class Truck(Vehicle):\n",
    "    def load_cargo(self, weight):\n",
    "        print(f\"Loaded {weight}kg cargo.\")"
   ]
  },
  {
   "cell_type": "markdown",
   "metadata": {},
   "source": [
    "\n",
    "## Types of Classes in Python\n",
    "\n",
    "Python supports several kinds of classes, each serving different purposes in programming. Understanding these types can help write more efficient, organized, and maintainable code.\n",
    "\n",
    "---\n",
    "\n",
    "### 1. Regular (Concrete) Classes\n",
    "- The most common class type.\n",
    "- Used to create objects with attributes and methods.\n",
    "- Can be instantiated directly.\n",
    "- Example:\n"
   ]
  },
  {
   "cell_type": "code",
   "execution_count": 5,
   "metadata": {},
   "outputs": [],
   "source": [
    "class Person:\n",
    "    def __init__(self, name, age):\n",
    "        self.name = name\n",
    "        self.age = age\n",
    "        \n",
    "p = Person(\"Ashmeet\", 22)"
   ]
  },
  {
   "cell_type": "markdown",
   "metadata": {},
   "source": [
    "\n",
    "---\n",
    "\n",
    "### 2. Abstract Classes\n",
    "- Cannot be instantiated directly.\n",
    "- Contain one or more **abstract methods** that subclasses must implement.\n",
    "- Implemented using the `abc` module with `@abstractmethod`.\n",
    "- Provide a blueprint for other classes.\n",
    "- Example:\n"
   ]
  },
  {
   "cell_type": "code",
   "execution_count": 13,
   "metadata": {},
   "outputs": [
    {
     "name": "stdout",
     "output_type": "stream",
     "text": [
      "Method - 2\n"
     ]
    }
   ],
   "source": [
    "from abc import ABC,abstractmethod\n",
    "\n",
    "class Parent():\n",
    "\n",
    "    def meth1(self):\n",
    "        print(\"Parent Method -1\")\n",
    "\n",
    "    @abstractmethod\n",
    "    def meth2(self):\n",
    "        pass\n",
    "\n",
    "class Child(Parent):\n",
    "    def meth2(self):\n",
    "        print(\"Method - 2\")\n",
    "\n",
    "c = Child()\n",
    "c.meth2()"
   ]
  },
  {
   "cell_type": "markdown",
   "metadata": {},
   "source": [
    "\n",
    "---\n",
    "\n",
    "## 3. Static Classes (Utility Classes)\n",
    "- Classes that hold only static methods and static variables.\n",
    "- Not instantiated but used as namespaces for utility functions.\n",
    "- Python has no explicit static class concept, but static methods are marked with `@staticmethod`.\n",
    "- Example:\n"
   ]
  },
  {
   "cell_type": "markdown",
   "metadata": {},
   "source": [
    "\n",
    "---\n",
    "\n",
    "## 4. Inner / Nested Classes\n",
    "- Classes defined inside another class.\n",
    "- Used to logically group classes or hide them from external access.\n",
    "- Example:\n"
   ]
  },
  {
   "cell_type": "code",
   "execution_count": null,
   "metadata": {},
   "outputs": [],
   "source": []
  }
 ],
 "metadata": {
  "kernelspec": {
   "display_name": "ai_interviewer",
   "language": "python",
   "name": "python3"
  },
  "language_info": {
   "codemirror_mode": {
    "name": "ipython",
    "version": 3
   },
   "file_extension": ".py",
   "mimetype": "text/x-python",
   "name": "python",
   "nbconvert_exporter": "python",
   "pygments_lexer": "ipython3",
   "version": "3.11.11"
  }
 },
 "nbformat": 4,
 "nbformat_minor": 2
}
