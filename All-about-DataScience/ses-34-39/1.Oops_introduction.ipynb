{
 "cells": [
  {
   "cell_type": "markdown",
   "metadata": {},
   "source": [
    "## OOPS: \n",
    "    1. Encapsulation - classes and objects\n",
    "    2. Abstraction - Data Hiding\n",
    "    3. Inheritence - Parents and child\n",
    "    4. Polymorphism - many forms\n"
   ]
  },
  {
   "cell_type": "markdown",
   "metadata": {},
   "source": [
    "Class - blueprint of an program or object. for example blueprint of a House which tells how many rooms , where they should be placed, Blueprint of a car is a class , many cars are made from a single design blueprint , blueprint is the class and many cars made thrpugh that design are objects.\n"
   ]
  },
  {
   "cell_type": "code",
   "execution_count": 1,
   "metadata": {},
   "outputs": [
    {
     "name": "stdout",
     "output_type": "stream",
     "text": [
      "<class 'int'>\n"
     ]
    }
   ],
   "source": [
    "i = 5\n",
    "print(type(i))"
   ]
  },
  {
   "cell_type": "markdown",
   "metadata": {},
   "source": [
    "This shows that 'i' integer variable belongs to integer inbuilt class in python"
   ]
  },
  {
   "cell_type": "markdown",
   "metadata": {},
   "source": [
    "#### Encapsulation\n",
    "Encapsulation means bundling data (attributes) and methods (functions) that operate on that data into a single unit, typically a class, and restricting direct access to some components. This protects internal state via mechanisms like private variables and public getters/setters, helping prevent unwanted modifications and maintaining data integrity.\n",
    "\n",
    "#### Abstraction\n",
    "Abstraction hides complex implementation details and exposes only necessary features of an object via simpler interfaces. It allows programmers to interact with high-level operations without concern for the underlying complexity—making code easier to use and maintain.\n",
    "\n",
    "#### Inheritance\n",
    "Inheritance is the process where one class (child/subclass) derives attributes and behaviors (methods) from another class (parent/superclass). This enables code reuse and hierarchical organization, as child classes inherit common properties and can override or extend functionality for specialized use cases.\n",
    "\n",
    "#### Polymorphism\n",
    "Polymorphism means “many forms.” It enables functions, methods, or operators to work with objects of multiple classes via a common interface, often leveraging method overriding to customize behavior for each subclass. Thus, the same code can process different types seamlessly, increasing flexibility and reusability.\n",
    "\n"
   ]
  },
  {
   "cell_type": "markdown",
   "metadata": {},
   "source": [
    "### Defining Classes and Objects:\n",
    "\n",
    "for ex: Class is Television.\n",
    "\n",
    "Properties:\n",
    "1. Size\n",
    "2. Type\n",
    "3. brand\n",
    "4. model \n",
    "\n",
    "Methods:\n",
    "1. SwitchOn()\n",
    "2. Switchoff()\n",
    "3. ChangeChannel()\n",
    "4. SetVolume()\n"
   ]
  },
  {
   "cell_type": "markdown",
   "metadata": {},
   "source": [
    "for ex: Class is\n",
    " ### Online Order.\n",
    "\n",
    "Properties:\n",
    "1. orderNum\n",
    "2. custDetails\n",
    "3. itemList\n",
    "4. status\n",
    "\n",
    "Methods:\n",
    "1. selectItem()\n",
    "2. deleteItem()\n",
    "3. confirmOrder()\n",
    "4. CancelOrder()"
   ]
  },
  {
   "cell_type": "code",
   "execution_count": 2,
   "metadata": {},
   "outputs": [
    {
     "name": "stdout",
     "output_type": "stream",
     "text": [
      "length :  10\n",
      "Breadth :  5\n",
      "Area :  50\n",
      "Perimeter :  30\n"
     ]
    }
   ],
   "source": [
    "class Rectangle:\n",
    "    def __init__(self):\n",
    "        self.length = 10\n",
    "        self.breadth = 5\n",
    "\n",
    "    def area(self): #instance method \n",
    "        return self.length * self.breadth\n",
    "    \n",
    "    def perimeter(self):\n",
    "        return 2 * (self.length + self.breadth)\n",
    "    \n",
    "r = Rectangle() #Object of a class.\n",
    "print('length : ',r.length)\n",
    "print('Breadth : ',r.breadth)\n",
    "print('Area : ',r.area())\n",
    "print('Perimeter : ',r.perimeter())"
   ]
  },
  {
   "cell_type": "code",
   "execution_count": null,
   "metadata": {},
   "outputs": [],
   "source": [
    " "
   ]
  }
 ],
 "metadata": {
  "kernelspec": {
   "display_name": "ai_interviewer",
   "language": "python",
   "name": "python3"
  },
  "language_info": {
   "codemirror_mode": {
    "name": "ipython",
    "version": 3
   },
   "file_extension": ".py",
   "mimetype": "text/x-python",
   "name": "python",
   "nbconvert_exporter": "python",
   "pygments_lexer": "ipython3",
   "version": "3.11.11"
  }
 },
 "nbformat": 4,
 "nbformat_minor": 2
}
