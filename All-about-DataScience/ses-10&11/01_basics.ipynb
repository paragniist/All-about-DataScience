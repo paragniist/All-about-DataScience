{
 "cells": [
  {
   "cell_type": "code",
   "execution_count": 4,
   "metadata": {},
   "outputs": [
    {
     "name": "stdout",
     "output_type": "stream",
     "text": [
      "32\n"
     ]
    }
   ],
   "source": [
    "age = 32\n",
    "if (age>30):\n",
    "    print(age) \n",
    "\n",
    "## This is a single Line Comment.\n",
    "print(\"Hello World\")\n"
   ]
  },
  {
   "cell_type": "code",
   "execution_count": 1,
   "metadata": {},
   "outputs": [
    {
     "name": "stdout",
     "output_type": "stream",
     "text": [
      "My name is Ash\n"
     ]
    }
   ],
   "source": [
    "Name = \"Ash\"\n",
    "print(f\"My name is {Name}\")"
   ]
  },
  {
   "cell_type": "code",
   "execution_count": 3,
   "metadata": {},
   "outputs": [
    {
     "name": "stdout",
     "output_type": "stream",
     "text": [
      "Number is Zero\n"
     ]
    }
   ],
   "source": [
    "num=int(input(\"Enter any Number\"))\n",
    "\n",
    "if(num>0):\n",
    "    print(\"Number is Positive Number\")\n",
    "    if(num%2==0):\n",
    "        print(\"Number is Even\")\n",
    "    else:\n",
    "        print(\"Number is Odd\")\n",
    "elif(num==0):\n",
    "    print(\"Number is Zero\")\n",
    "else:\n",
    "    print(\"Number is Negative\")"
   ]
  },
  {
   "cell_type": "markdown",
   "metadata": {},
   "source": [
    "### Q. Try to create a simple calculator using Nest'ed If else ?"
   ]
  },
  {
   "cell_type": "code",
   "execution_count": 10,
   "metadata": {},
   "outputs": [
    {
     "name": "stdout",
     "output_type": "stream",
     "text": [
      "3.0\n"
     ]
    }
   ],
   "source": [
    "num1=float(input(\"Enter the First Number\"))\n",
    "operation=input(\"Enter the Operation(+,-,*,/,%)\")\n",
    "num2=float(input(\"Enter the Second Number\"))\n",
    "if(operation=='+'):\n",
    "    print(num1 + num2)\n",
    "elif(operation=='-'):\n",
    "    print(num1 - num2)\n",
    "elif(operation=='*'):\n",
    "    print(num1 * num2)\n",
    "elif(operation=='/'):\n",
    "    if(num2==0):\n",
    "        print(\"Division by zero\")\n",
    "    else:\n",
    "         print(num1 / num2)\n",
    "elif(operation=='%'):\n",
    "    print(num1 % num2)\n",
    "else:\n",
    "    print(\"Wrong Operation\")"
   ]
  },
  {
   "cell_type": "code",
   "execution_count": null,
   "metadata": {},
   "outputs": [],
   "source": []
  }
 ],
 "metadata": {
  "kernelspec": {
   "display_name": "Python 3",
   "language": "python",
   "name": "python3"
  },
  "language_info": {
   "codemirror_mode": {
    "name": "ipython",
    "version": 3
   },
   "file_extension": ".py",
   "mimetype": "text/x-python",
   "name": "python",
   "nbconvert_exporter": "python",
   "pygments_lexer": "ipython3",
   "version": "3.12.0"
  }
 },
 "nbformat": 4,
 "nbformat_minor": 2
}
